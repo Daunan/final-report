{
  "nbformat": 4,
  "nbformat_minor": 0,
  "metadata": {
    "colab": {
      "provenance": [],
      "authorship_tag": "ABX9TyPmTySVXuWTppBiPWgyheiW",
      "include_colab_link": true
    },
    "kernelspec": {
      "name": "python3",
      "display_name": "Python 3"
    },
    "language_info": {
      "name": "python"
    }
  },
  "cells": [
    {
      "cell_type": "markdown",
      "metadata": {
        "id": "view-in-github",
        "colab_type": "text"
      },
      "source": [
        "<a href=\"https://colab.research.google.com/github/Daunan/final-report/blob/main/202310033_%EB%AF%B8%EB%9E%98%ED%95%99%EB%B6%80_%EC%95%88%EB%8B%A4%EC%9A%B4.ipynb\" target=\"_parent\"><img src=\"https://colab.research.google.com/assets/colab-badge.svg\" alt=\"Open In Colab\"/></a>"
      ]
    },
    {
      "cell_type": "markdown",
      "source": [
        "[문제]\n",
        "\n",
        "Kaprika수를 구하라. Kaprika 수란?\n",
        "예를 들어 네 자리 숫자 2025의 가운데를 갈라보면 20과 25의 두개의 숫자가 생긴다. 이 두개의 숫자를 더하면 45이고, 45를 제곱하면 2025가 되어 원상태로 되돌아간다. 이러한 성질을 갖는 수를 Kaprika수 라고 한다.\n",
        "또 81은 가운데를 잘라보면 8 과 1로 갈라지고, 더하면 9가 되고 다시 제곱하면 81로 돌아간다. 그러므로 81은 두 자리 숫자의 Kaprika수가 되는 것이다.\n",
        "네 자리로 구성된 kaprika 수를 모두 구하는 프로그램을 작성하시오.\n",
        "\n",
        "\n",
        "안다운(202310033),미래학부 빅데이터 전공"
      ],
      "metadata": {
        "id": "iLFe1K0tjUTj"
      }
    },
    {
      "cell_type": "code",
      "source": [
        "def is_kaprika_number(number):\n",
        "    str_number = str(number)\n",
        "    middle = len(str_number) // 2\n",
        "    left = int(str_number[:middle])\n",
        "    right = int(str_number[middle:])\n",
        "    total = left + right\n",
        "    return total * total == number\n",
        "\n",
        "def find_kaprika_numbers():\n",
        "    kaprika_numbers = []\n",
        "    number = 1000  # 네 자리 숫자 범위의 시작\n",
        "    while number < 10000:  # 네 자리 숫자 범위의 끝\n",
        "        if is_kaprika_number(number):\n",
        "            kaprika_numbers.append(number)\n",
        "        number += 1\n",
        "    return kaprika_numbers\n",
        "\n",
        "kaprika_numbers = find_kaprika_numbers()\n",
        "\n",
        "# 이름, 학번, 학과 정보 출력\n",
        "print(\"이름: 안다운\")\n",
        "print(\"학번: 202310033\")\n",
        "print(\"학과: 미래학부\")\n",
        "print(\"네 자리 Kaprika 수:\", kaprika_numbers)"
      ],
      "metadata": {
        "colab": {
          "base_uri": "https://localhost:8080/"
        },
        "id": "EpTshOkdjjxp",
        "outputId": "076cee0a-5779-4116-d3bc-07d8a49b0379"
      },
      "execution_count": 7,
      "outputs": [
        {
          "output_type": "stream",
          "name": "stdout",
          "text": [
            "이름: 안다운\n",
            "학번: 202310033\n",
            "학과: 미래학부\n",
            "네 자리 Kaprika 수: [2025, 3025, 9801]\n"
          ]
        }
      ]
    }
  ]
}