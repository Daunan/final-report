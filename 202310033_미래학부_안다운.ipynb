{
  "nbformat": 4,
  "nbformat_minor": 0,
  "metadata": {
    "colab": {
      "provenance": [],
      "authorship_tag": "ABX9TyO/q/PxR5fvXlNgcVJeSwYN",
      "include_colab_link": true
    },
    "kernelspec": {
      "name": "python3",
      "display_name": "Python 3"
    },
    "language_info": {
      "name": "python"
    }
  },
  "cells": [
    {
      "cell_type": "markdown",
      "metadata": {
        "id": "view-in-github",
        "colab_type": "text"
      },
      "source": [
        "<a href=\"https://colab.research.google.com/github/Daunan/final-report/blob/main/202310033_%EB%AF%B8%EB%9E%98%ED%95%99%EB%B6%80_%EC%95%88%EB%8B%A4%EC%9A%B4.ipynb\" target=\"_parent\"><img src=\"https://colab.research.google.com/assets/colab-badge.svg\" alt=\"Open In Colab\"/></a>"
      ]
    },
    {
      "cell_type": "code",
      "execution_count": null,
      "metadata": {
        "id": "MXL8m378YViY"
      },
      "outputs": [],
      "source": []
    },
    {
      "cell_type": "markdown",
      "source": [
        "문제:[문제]\n",
        "\n",
        "고려사이버대학교의 어떤 교수는 건망증이 심하다. 가끔 자신의 차번호까지, 심지어는 차종까지 잊기도 한다. 그러던 어느 날 조교와 함께 주차장에서 차를 찾고 있었다. \"아, 기억이 나질 않는걸, 수첩을 봐야겠어. 어디 보자\" 수첩에는 다음과 같이 전혀 도움이 될 것 같지 않은 메모가 있었다.\n",
        "\n",
        "① 4자리의 숫자 ABCD는 0이 들어있지 않고, 모두 다른 숫자임.\n",
        "② 첫째 숫자(A)가 마지막 숫자(D)보다 2가 큼.\n",
        "③ 둘째 숫자(B)가 셋째 숫자(C)보다 큼.\n",
        "④ 집 전화번호 뒤의 4자리를 역순으로 배열하면 번호판의 수와 같음.\n",
        "\n",
        "조교는 \"다른 건 안 봐도 되겠네요. 전화번호가 몇 번이죠?\"하고 물었다. 교수는 머리를 긁적거리며 \"그게 말이지... 갑자기 생각이 안 나는군...\", \"내가 기억하는 거라곤 번호판 숫자와 집 전화번호 뒤의 4자리를 합하면 내가 맡은 강좌번호 16456이 된다는 것 밖에...\"\n",
        "과연 차 번호판의 숫자는 무엇일까?\n",
        "\n",
        "주의사항 : 제출할 때 반드시 결과는 실행창 전체를 캡처/복사하여 제출하여야 하며, 실행창에 본인의 이름, 학번, 학과를 명시해야 합니다. 그 외는 불인정합니다.\n"
      ],
      "metadata": {
        "id": "4Hhk9ylHYafR"
      }
    },
    {
      "cell_type": "code",
      "source": [
        "course_number = 16456\n",
        "\n",
        "for plate_number in range(1000, 10000):\n",
        "    plate_str = str(plate_number)\n",
        "\n",
        "    A, B, C, D = map(int, plate_str)\n",
        "\n",
        "    if (A != 0 and len(set([A, B, C, D])) == 4 and A - D == 2 and B > C):\n",
        "\n",
        "        phone_number = 16456 - plate_number\n",
        "\n",
        "        phone_str = str(phone_number)[::-1]\n",
        "\n",
        "        if plate_str == phone_str:\n",
        "            print(f\"차 번호판의 숫자: {plate_str}\")\n",
        "            print(\"이름: 안다운\")\n",
        "            print(\"학번: 202310033\")\n",
        "            print(\"학과: 미래학부\")\n",
        "            break\n"
      ],
      "metadata": {
        "colab": {
          "base_uri": "https://localhost:8080/"
        },
        "id": "HhLebIgzYZRx",
        "outputId": "f2ce41ed-e13c-43bf-d6cd-c3fa13343a63"
      },
      "execution_count": 15,
      "outputs": [
        {
          "output_type": "stream",
          "name": "stdout",
          "text": [
            "차 번호판의 숫자: 9317\n",
            "이름: 안다운\n",
            "학번: 202310033\n",
            "학과: 미래학부\n"
          ]
        }
      ]
    }
  ]
}